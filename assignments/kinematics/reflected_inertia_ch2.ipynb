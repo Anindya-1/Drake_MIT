{
 "cells": [
  {
   "cell_type": "code",
   "execution_count": 3,
   "id": "5879c0dc-3487-42b6-989d-49085079b4a5",
   "metadata": {},
   "outputs": [],
   "source": [
    "# python libraries\n",
    "import mpld3\n",
    "import numpy as np\n",
    "from matplotlib import pyplot as plt\n",
    "from pydrake.all import (\n",
    "    ConstantVectorSource,\n",
    "    DiagramBuilder,\n",
    "    PidController,\n",
    "    Simulator,\n",
    "    SymbolicVectorSystem,\n",
    "    Variable,\n",
    "    VectorLogSink,\n",
    "    sin,\n",
    ")\n",
    "\n",
    "# from manipulation import running_as_notebook\n",
    "# # from manipulation.exercises.grader import Grader\n",
    "# from manipulation.exercises.robot.test_reflected_inertia import (\n",
    "#     TestSimplePendulumWithGearbox,\n",
    "# )\n",
    "# from manipulation.utils import RenderDiagram\n",
    "\n",
    "# # enable mpld3 notebook\n",
    "# if running_as_notebook:\n",
    "#     mpld3.enable_notebook()"
   ]
  },
  {
   "cell_type": "code",
   "execution_count": 4,
   "id": "84390d47-aa27-4a74-8cd4-ebe870f155b6",
   "metadata": {},
   "outputs": [],
   "source": [
    "def pendulum_dynamics(x, u, p):\n",
    "    q = x[0]\n",
    "    qdot = x[1]\n",
    "    tau = u[0]\n",
    "    return [\n",
    "        qdot,\n",
    "        ((-p[\"m\"] * p[\"g\"] * p[\"l\"] * sin(q) + tau) / (p[\"m\"] * p[\"l\"] ** 2)),\n",
    "    ]"
   ]
  },
  {
   "cell_type": "code",
   "execution_count": 7,
   "id": "a29b3117-2003-4027-9cf7-195cbacbd31f",
   "metadata": {},
   "outputs": [],
   "source": [
    "# Symbolic Variables from pydrake.symbolic\n",
    "x = [Variable(\"theta\"), Variable(\"thetadot\")]\n",
    "u = [Variable(\"tau\")]\n",
    "\n",
    "# Example parameters of pendulum dynamics\n",
    "p = {\"m\": 1.0, \"g\": 9.81, \"l\": 0.5, \"N\": 160, \"I_m\": 3.46e-4}  # kg  # m / s^2  # m\n",
    "\n",
    "# Declaration of a symbolic vector system\n",
    "system = SymbolicVectorSystem(\n",
    "    state=x, output=x, input=u, dynamics=pendulum_dynamics(x, u, p)\n",
    ")"
   ]
  },
  {
   "cell_type": "code",
   "execution_count": 6,
   "id": "90a36c01-40fd-425b-a859-b29b10c50f15",
   "metadata": {},
   "outputs": [
    {
     "name": "stdout",
     "output_type": "stream",
     "text": [
      "::_ Context\n",
      "------------\n",
      "Time: 0\n",
      "States:\n",
      "  2 continuous states\n",
      "    0 0\n",
      "\n",
      "\n"
     ]
    }
   ],
   "source": [
    "context = system.CreateDefaultContext()\n",
    "print(context)"
   ]
  },
  {
   "cell_type": "code",
   "execution_count": 8,
   "id": "939c8003-b6f3-4055-972f-8b63626669a0",
   "metadata": {},
   "outputs": [],
   "source": [
    "# Modify this function. you may not change the function name, inputs, or size of the output.\n",
    "\n",
    "\n",
    "def pendulum_with_motor_dynamics(x, u, p):\n",
    "    q = x[0]   # q = q_output_shaft\n",
    "    qdot = x[1]\n",
    "    tau = u[0] #tau = tau_motor\n",
    "    return [qdot, \n",
    "            (((-p[\"m\"] * p[\"g\"] * p[\"l\"] * sin(q) + tau)/p[\"N\"]) / (((p[\"m\"] * p[\"l\"] ** 2)/p[\"N\"])+p[\"N\"]*p[\"I_m\"])),\n",
    "    ]"
   ]
  },
  {
   "cell_type": "code",
   "execution_count": 10,
   "id": "d8d976c5-a7fb-4742-aa98-c0b3deb4cbdc",
   "metadata": {},
   "outputs": [],
   "source": [
    "# Symbolic Variables from pydrake.symbolic\n",
    "x = [Variable(\"theta\"), Variable(\"thetadot\")]\n",
    "u = [Variable(\"tau\")]\n",
    "\n",
    "# Example parameters of pendulum dynamics\n",
    "p = {\"m\": 1.0, \"g\": 9.81, \"l\": 0.5, \"N\": 160, \"I_m\": 3.46e-4}  # kg  # m / s^2  # m\n",
    "\n",
    "# Declaration of a symbolic vector system\n",
    "system = SymbolicVectorSystem(\n",
    "    state=x, output=x, input=u, dynamics=pendulum_with_motor_dynamics(x, u, p)\n",
    ")"
   ]
  },
  {
   "cell_type": "code",
   "execution_count": 11,
   "id": "52d210cf-063f-4c52-82e4-98c75d722ac8",
   "metadata": {},
   "outputs": [
    {
     "name": "stdout",
     "output_type": "stream",
     "text": [
      "::_ Context\n",
      "------------\n",
      "Time: 0\n",
      "States:\n",
      "  2 continuous states\n",
      "    0 0\n",
      "\n",
      "\n"
     ]
    }
   ],
   "source": [
    "context = system.CreateDefaultContext()\n",
    "print(context)"
   ]
  },
  {
   "cell_type": "code",
   "execution_count": null,
   "id": "7ca5ff6c-68d8-4904-8858-755b7e2054af",
   "metadata": {},
   "outputs": [],
   "source": []
  }
 ],
 "metadata": {
  "kernelspec": {
   "display_name": "Python 3 (ipykernel)",
   "language": "python",
   "name": "python3"
  },
  "language_info": {
   "codemirror_mode": {
    "name": "ipython",
    "version": 3
   },
   "file_extension": ".py",
   "mimetype": "text/x-python",
   "name": "python",
   "nbconvert_exporter": "python",
   "pygments_lexer": "ipython3",
   "version": "3.10.12"
  }
 },
 "nbformat": 4,
 "nbformat_minor": 5
}
